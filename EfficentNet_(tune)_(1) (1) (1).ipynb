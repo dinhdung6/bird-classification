{
  "nbformat": 4,
  "nbformat_minor": 0,
  "metadata": {
    "colab": {
      "provenance": [],
      "gpuType": "T4"
    },
    "kernelspec": {
      "name": "python3",
      "display_name": "Python 3"
    },
    "language_info": {
      "name": "python"
    },
    "accelerator": "GPU"
  },
  "cells": [
    {
      "cell_type": "code",
      "source": [
        "# Import necessary libraries\n",
        "import os\n",
        "import torch\n",
        "import torch.nn as nn\n",
        "import torch.optim as optim\n",
        "from torch.utils.data import Dataset, DataLoader\n",
        "from torchvision import models, transforms\n",
        "import matplotlib.pyplot as plt\n",
        "import numpy as np\n",
        "from PIL import Image\n",
        "from tqdm import tqdm\n",
        "import zipfile\n",
        "from sklearn.metrics import accuracy_score\n",
        "\n",
        "# Check device\n",
        "device = torch.device(\"cuda\" if torch.cuda.is_available() else \"cpu\")\n",
        "print(f\"Using device: {device}\")\n",
        "\n"
      ],
      "metadata": {
        "colab": {
          "base_uri": "https://localhost:8080/"
        },
        "id": "8_9kWo3rY4JO",
        "outputId": "59716690-e68a-4150-9273-107b37f0a121"
      },
      "execution_count": 1,
      "outputs": [
        {
          "output_type": "stream",
          "name": "stdout",
          "text": [
            "Using device: cuda\n"
          ]
        }
      ]
    },
    {
      "cell_type": "code",
      "source": [
        "# Function to unzip dataset\n",
        "def unzip_dataset(zip_path, extract_path):\n",
        "    print(f\"Extracting {zip_path} to {extract_path}...\")\n",
        "    with zipfile.ZipFile(zip_path, 'r') as zip_ref:\n",
        "        zip_ref.extractall(extract_path)\n",
        "    print(\"Extraction complete!\")\n",
        "\n",
        "# Unzip datasets (uncomment and run as needed)\n",
        "unzip_dataset('Train.zip', './Train')\n",
        "unzip_dataset('Test.zip', './Test')"
      ],
      "metadata": {
        "id": "9JH4TGG_Y9ND",
        "colab": {
          "base_uri": "https://localhost:8080/"
        },
        "outputId": "ad40b8ad-0977-40e5-af11-f43c947f8bb9"
      },
      "execution_count": 2,
      "outputs": [
        {
          "output_type": "stream",
          "name": "stdout",
          "text": [
            "Extracting Train.zip to ./Train...\n",
            "Extraction complete!\n",
            "Extracting Test.zip to ./Test...\n",
            "Extraction complete!\n"
          ]
        }
      ]
    },
    {
      "cell_type": "code",
      "source": [
        "# Define an improved Autoencoder for Denoising with skip connections (U-Net style)\n",
        "class ImprovedAutoencoder(nn.Module):\n",
        "    def __init__(self):\n",
        "        super(ImprovedAutoencoder, self).__init__()\n",
        "        # Encoder\n",
        "        self.enc1 = nn.Sequential(\n",
        "            nn.Conv2d(3, 64, kernel_size=3, stride=1, padding=1),\n",
        "            nn.BatchNorm2d(64),\n",
        "            nn.ReLU(),\n",
        "            nn.Conv2d(64, 64, kernel_size=3, stride=1, padding=1),\n",
        "            nn.BatchNorm2d(64),\n",
        "            nn.ReLU()\n",
        "        )\n",
        "        self.pool1 = nn.MaxPool2d(2, 2)\n",
        "\n",
        "        self.enc2 = nn.Sequential(\n",
        "            nn.Conv2d(64, 128, kernel_size=3, stride=1, padding=1),\n",
        "            nn.BatchNorm2d(128),\n",
        "            nn.ReLU(),\n",
        "            nn.Conv2d(128, 128, kernel_size=3, stride=1, padding=1),\n",
        "            nn.BatchNorm2d(128),\n",
        "            nn.ReLU()\n",
        "        )\n",
        "        self.pool2 = nn.MaxPool2d(2, 2)\n",
        "\n",
        "        self.enc3 = nn.Sequential(\n",
        "            nn.Conv2d(128, 256, kernel_size=3, stride=1, padding=1),\n",
        "            nn.BatchNorm2d(256),\n",
        "            nn.ReLU()\n",
        "        )\n",
        "\n",
        "        # Decoder\n",
        "        self.upconv2 = nn.ConvTranspose2d(256, 128, kernel_size=2, stride=2)\n",
        "        self.dec2 = nn.Sequential(\n",
        "            nn.Conv2d(256, 128, kernel_size=3, stride=1, padding=1),\n",
        "            nn.BatchNorm2d(128),\n",
        "            nn.ReLU()\n",
        "        )\n",
        "\n",
        "        self.upconv1 = nn.ConvTranspose2d(128, 64, kernel_size=2, stride=2)\n",
        "        self.dec1 = nn.Sequential(\n",
        "            nn.Conv2d(128, 64, kernel_size=3, stride=1, padding=1),\n",
        "            nn.BatchNorm2d(64),\n",
        "            nn.ReLU(),\n",
        "            nn.Conv2d(64, 3, kernel_size=3, stride=1, padding=1),\n",
        "            nn.Sigmoid()\n",
        "        )\n",
        "\n",
        "    def forward(self, x):\n",
        "        # Encoding\n",
        "        enc1_out = self.enc1(x)\n",
        "        pool1_out = self.pool1(enc1_out)\n",
        "\n",
        "        enc2_out = self.enc2(pool1_out)\n",
        "        pool2_out = self.pool2(enc2_out)\n",
        "\n",
        "        enc3_out = self.enc3(pool2_out)\n",
        "\n",
        "        # Decoding with skip connections\n",
        "        upconv2_out = self.upconv2(enc3_out)\n",
        "        cat2 = torch.cat([upconv2_out, enc2_out], dim=1)\n",
        "        dec2_out = self.dec2(cat2)\n",
        "\n",
        "        upconv1_out = self.upconv1(dec2_out)\n",
        "        cat1 = torch.cat([upconv1_out, enc1_out], dim=1)\n",
        "        dec1_out = self.dec1(cat1)\n",
        "\n",
        "        return dec1_out"
      ],
      "metadata": {
        "id": "dcocauRSY-Gc"
      },
      "execution_count": 3,
      "outputs": []
    },
    {
      "cell_type": "code",
      "source": [
        "# Custom Dataset for CUB-200\n",
        "class CUB200Dataset(Dataset):\n",
        "    def __init__(self, annotations_file, img_dir, transform=None):\n",
        "        self.img_labels = []\n",
        "        with open(annotations_file, 'r') as f:\n",
        "            for line in f:\n",
        "                parts = line.strip().split()\n",
        "                if len(parts) >= 2:\n",
        "                    self.img_labels.append((parts[0], int(parts[1])))\n",
        "        self.img_dir = img_dir\n",
        "        self.transform = transform\n",
        "        self.classes = sorted(list(set([label for _, label in self.img_labels])))\n",
        "\n",
        "    def __len__(self):\n",
        "        return len(self.img_labels)\n",
        "\n",
        "    def __getitem__(self, idx):\n",
        "        img_path = os.path.join(self.img_dir, self.img_labels[idx][0])\n",
        "        image = Image.open(img_path).convert('RGB')\n",
        "        label = self.img_labels[idx][1]\n",
        "        if self.transform:\n",
        "            image = self.transform(image)\n",
        "        return image, label\n",
        "\n",
        "    def get_num_classes(self):\n",
        "        return len(set([label for _, label in self.img_labels]))"
      ],
      "metadata": {
        "id": "bs6sSS2EZH5D"
      },
      "execution_count": 4,
      "outputs": []
    },
    {
      "cell_type": "code",
      "source": [
        "# Data Transformations\n",
        "train_transform = transforms.Compose([\n",
        "    transforms.Resize((384, 384)),  # Increased to EfficientNet-B3's optimal input size\n",
        "    transforms.RandomHorizontalFlip(),\n",
        "    transforms.RandomRotation(15),\n",
        "    transforms.ColorJitter(brightness=0.2, contrast=0.2, saturation=0.2),\n",
        "    transforms.RandomResizedCrop(384, scale=(0.8, 1.0)),  # Additional augmentation\n",
        "    transforms.ToTensor(),\n",
        "])\n",
        "\n",
        "test_transform = transforms.Compose([\n",
        "    transforms.Resize((384, 384)),\n",
        "    transforms.ToTensor(),\n",
        "])\n"
      ],
      "metadata": {
        "id": "COEBhWVYZIGM"
      },
      "execution_count": 5,
      "outputs": []
    },
    {
      "cell_type": "code",
      "source": [
        "# Normalization will be applied after denoising\n",
        "normalize = transforms.Normalize([0.485, 0.456, 0.406], [0.229, 0.224, 0.225])\n",
        "\n",
        "# Function to denoise images\n",
        "def denoise_images(autoencoder, images):\n",
        "    with torch.no_grad():\n",
        "        return autoencoder(images)"
      ],
      "metadata": {
        "id": "rr1mZch3ZUQ9"
      },
      "execution_count": 6,
      "outputs": []
    },
    {
      "cell_type": "code",
      "source": [
        "# Load train and test datasets\n",
        "train_dataset = CUB200Dataset('train.txt', './Train/Train', train_transform)\n",
        "test_dataset = CUB200Dataset('test.txt', './Test/Test', test_transform)\n",
        "\n",
        "train_loader = DataLoader(train_dataset, batch_size=16, shuffle=True, num_workers=2)\n",
        "test_loader = DataLoader(test_dataset, batch_size=16, shuffle=False, num_workers=2)\n",
        "\n",
        "num_classes = train_dataset.get_num_classes()\n",
        "print(f\"Number of classes: {num_classes}\")\n",
        "print(f\"Number of training samples: {len(train_dataset)}\")\n",
        "print(f\"Number of testing samples: {len(test_dataset)}\")"
      ],
      "metadata": {
        "id": "1myRQ-gAZXos",
        "colab": {
          "base_uri": "https://localhost:8080/"
        },
        "outputId": "831122ba-40a8-47f6-df66-712d977b8bde"
      },
      "execution_count": 7,
      "outputs": [
        {
          "output_type": "stream",
          "name": "stdout",
          "text": [
            "Number of classes: 200\n",
            "Number of training samples: 4829\n",
            "Number of testing samples: 1204\n"
          ]
        }
      ]
    },
    {
      "cell_type": "code",
      "source": [
        "# Initialize the improved autoencoder\n",
        "autoencoder = ImprovedAutoencoder().to(device)"
      ],
      "metadata": {
        "id": "K2y4emc9oFI5"
      },
      "execution_count": 8,
      "outputs": []
    },
    {
      "cell_type": "code",
      "source": [
        "# Pretrain the autoencoder\n",
        "def pretrain_autoencoder(autoencoder, train_loader, epochs=5):\n",
        "    print(\"Pretraining autoencoder...\")\n",
        "    criterion = nn.MSELoss()\n",
        "    optimizer = optim.Adam(autoencoder.parameters(), lr=0.001)\n",
        "\n",
        "    for epoch in range(epochs):\n",
        "        running_loss = 0.0\n",
        "        for inputs, _ in tqdm(train_loader):\n",
        "            inputs = inputs.to(device)\n",
        "\n",
        "            # Add noise to input images\n",
        "            noise_factor = 0.2\n",
        "            noisy_inputs = inputs + noise_factor * torch.randn_like(inputs)\n",
        "            noisy_inputs = torch.clamp(noisy_inputs, 0., 1.)\n",
        "\n",
        "            # Forward pass\n",
        "            outputs = autoencoder(noisy_inputs)\n",
        "            loss = criterion(outputs, inputs)\n",
        "\n",
        "            # Backward and optimize\n",
        "            optimizer.zero_grad()\n",
        "            loss.backward()\n",
        "            optimizer.step()\n",
        "\n",
        "            running_loss += loss.item() * inputs.size(0)\n",
        "\n",
        "        epoch_loss = running_loss / len(train_loader.dataset)\n",
        "        print(f'Epoch {epoch+1}/{epochs}, Loss: {epoch_loss:.4f}')\n",
        "\n",
        "    print(\"Autoencoder pretraining complete!\")\n",
        "    return autoencoder\n"
      ],
      "metadata": {
        "id": "3xbwSRPOoLYd"
      },
      "execution_count": 9,
      "outputs": []
    },
    {
      "cell_type": "code",
      "source": [
        "# Calculate per-class accuracy\n",
        "def calculate_class_accuracy(model, dataloader, autoencoder, num_classes):\n",
        "    model.eval()\n",
        "    autoencoder.eval()\n",
        "\n",
        "    class_correct = [0] * num_classes\n",
        "    class_total = [0] * num_classes\n",
        "\n",
        "    with torch.no_grad():\n",
        "        for inputs, labels in tqdm(dataloader):\n",
        "            inputs, labels = inputs.to(device), labels.to(device)\n",
        "\n",
        "            # Denoise and normalize\n",
        "            inputs = denoise_images(autoencoder, inputs)\n",
        "            inputs = torch.stack([normalize(img) for img in inputs])\n",
        "\n",
        "            outputs = model(inputs)\n",
        "            _, preds = torch.max(outputs, 1)\n",
        "\n",
        "            # Update class-wise accuracy\n",
        "            for i in range(len(labels)):\n",
        "                label = labels[i].item()\n",
        "                class_correct[label] += (preds[i] == label).item()\n",
        "                class_total[label] += 1\n",
        "\n",
        "    # Calculate per-class accuracy\n",
        "    per_class_acc = []\n",
        "    for i in range(num_classes):\n",
        "        if class_total[i] > 0:\n",
        "            acc = class_correct[i] / class_total[i]\n",
        "            per_class_acc.append(acc)\n",
        "\n",
        "    avg_class_acc = sum(per_class_acc) / len(per_class_acc)\n",
        "    return avg_class_acc"
      ],
      "metadata": {
        "id": "aYcJQRH-oLrI"
      },
      "execution_count": 10,
      "outputs": []
    },
    {
      "cell_type": "code",
      "source": [
        "# Pretrain the autoencoder\n",
        "autoencoder = pretrain_autoencoder(autoencoder, train_loader, epochs=5)"
      ],
      "metadata": {
        "colab": {
          "base_uri": "https://localhost:8080/"
        },
        "id": "NY4Nr8Z-odPI",
        "outputId": "91c5078c-4284-4d98-c18d-1e2410c4b90e"
      },
      "execution_count": 11,
      "outputs": [
        {
          "output_type": "stream",
          "name": "stdout",
          "text": [
            "Pretraining autoencoder...\n"
          ]
        },
        {
          "output_type": "stream",
          "name": "stderr",
          "text": [
            "100%|██████████| 302/302 [05:30<00:00,  1.09s/it]\n"
          ]
        },
        {
          "output_type": "stream",
          "name": "stdout",
          "text": [
            "Epoch 1/5, Loss: 0.0047\n"
          ]
        },
        {
          "output_type": "stream",
          "name": "stderr",
          "text": [
            "100%|██████████| 302/302 [05:31<00:00,  1.10s/it]\n"
          ]
        },
        {
          "output_type": "stream",
          "name": "stdout",
          "text": [
            "Epoch 2/5, Loss: 0.0036\n"
          ]
        },
        {
          "output_type": "stream",
          "name": "stderr",
          "text": [
            "100%|██████████| 302/302 [05:31<00:00,  1.10s/it]\n"
          ]
        },
        {
          "output_type": "stream",
          "name": "stdout",
          "text": [
            "Epoch 3/5, Loss: 0.0034\n"
          ]
        },
        {
          "output_type": "stream",
          "name": "stderr",
          "text": [
            "100%|██████████| 302/302 [05:31<00:00,  1.10s/it]\n"
          ]
        },
        {
          "output_type": "stream",
          "name": "stdout",
          "text": [
            "Epoch 4/5, Loss: 0.0027\n"
          ]
        },
        {
          "output_type": "stream",
          "name": "stderr",
          "text": [
            "100%|██████████| 302/302 [05:31<00:00,  1.10s/it]"
          ]
        },
        {
          "output_type": "stream",
          "name": "stdout",
          "text": [
            "Epoch 5/5, Loss: 0.0025\n",
            "Autoencoder pretraining complete!\n"
          ]
        },
        {
          "output_type": "stream",
          "name": "stderr",
          "text": [
            "\n"
          ]
        }
      ]
    },
    {
      "cell_type": "code",
      "source": [
        "# Load EfficientNet-B3\n",
        "model = models.efficientnet_b3(weights='DEFAULT')\n",
        "num_ftrs = model.classifier[1].in_features\n",
        "model.classifier[1] = nn.Linear(num_ftrs, num_classes)\n",
        "model = model.to(device)"
      ],
      "metadata": {
        "colab": {
          "base_uri": "https://localhost:8080/"
        },
        "id": "O8E17syfohLo",
        "outputId": "cba0b890-2154-4fd8-c64e-34e18b6badf0"
      },
      "execution_count": 12,
      "outputs": [
        {
          "output_type": "stream",
          "name": "stderr",
          "text": [
            "Downloading: \"https://download.pytorch.org/models/efficientnet_b3_rwightman-b3899882.pth\" to /root/.cache/torch/hub/checkpoints/efficientnet_b3_rwightman-b3899882.pth\n",
            "100%|██████████| 47.2M/47.2M [00:00<00:00, 152MB/s]\n"
          ]
        }
      ]
    },
    {
      "cell_type": "code",
      "source": [
        "# Initially freeze all layers of the backbone\n",
        "for param in model.parameters():\n",
        "    param.requires_grad = False\n",
        "\n",
        "# Only enable training for the classifier\n",
        "for param in model.classifier.parameters():\n",
        "    param.requires_grad = True\n",
        "\n",
        "# Training parameters\n",
        "criterion = nn.CrossEntropyLoss()\n",
        "max_epochs = 50\n",
        "patience = 15  # For early stopping\n",
        "best_acc = 0.0\n",
        "epochs_no_improve = 0\n",
        "\n",
        "train_acc_history = []\n",
        "test_acc_history = []\n",
        "avg_class_acc_history = []"
      ],
      "metadata": {
        "id": "LvCzGkH3on44"
      },
      "execution_count": 13,
      "outputs": []
    },
    {
      "cell_type": "code",
      "source": [
        "# Training stages for gradual unfreezing\n",
        "training_stages = [\n",
        "    {'epochs': 10, 'unfreeze': None, 'lr': 0.001},            # Train only classifier\n",
        "    {'epochs': 10, 'unfreeze': 'features.7', 'lr': 0.005},   # Unfreeze last feature block\n",
        "    {'epochs': 10, 'unfreeze': 'features.6', 'lr': 0.0001},   # Unfreeze one more block\n",
        "    {'epochs': max_epochs, 'unfreeze': 'features.5', 'lr': 0.0005}  # Unfreeze one more block\n",
        "]"
      ],
      "metadata": {
        "id": "7DVma1oMw87N"
      },
      "execution_count": 14,
      "outputs": []
    },
    {
      "cell_type": "code",
      "source": [
        "# Training function with gradual unfreezing\n",
        "def train_with_unfreezing(model, autoencoder, training_stages, criterion):\n",
        "    total_epoch = 0\n",
        "    best_acc = 0.0\n",
        "    epochs_no_improve = 0\n",
        "    patience = 15\n",
        "    train_acc_history = []\n",
        "    test_acc_history = []\n",
        "    avg_class_acc_history = []\n",
        "\n",
        "    # Gradual unfreezing training loop\n",
        "    for stage_idx, stage in enumerate(training_stages):\n",
        "        print(f\"\\nTraining Stage {stage_idx+1}: LR={stage['lr']}\")\n",
        "\n",
        "        # Unfreeze specified layers\n",
        "        if stage['unfreeze']:\n",
        "            for name, param in model.named_parameters():\n",
        "                if stage['unfreeze'] in name:\n",
        "                    param.requires_grad = True\n",
        "                    print(f\"Unfreezing: {name}\")\n",
        "\n",
        "        # Setup optimizer and scheduler for this stage\n",
        "        optimizer = optim.AdamW([p for p in model.parameters() if p.requires_grad], lr=stage['lr'])\n",
        "        scheduler = optim.lr_scheduler.CosineAnnealingLR(optimizer, T_max=stage['epochs'])\n",
        "\n",
        "        # Define max epochs for this stage\n",
        "        stage_epochs = min(stage['epochs'], max_epochs - total_epoch)\n",
        "\n",
        "        # Training loop for this stage\n",
        "        for epoch in range(stage_epochs):\n",
        "            if epochs_no_improve >= patience:\n",
        "                print(f\"Early stopping triggered after {total_epoch} epochs!\")\n",
        "                break\n",
        "\n",
        "            total_epoch += 1\n",
        "            print(f'Epoch {total_epoch}/{max_epochs} (Stage {stage_idx+1})')\n",
        "            print('-' * 10)\n",
        "\n",
        "            # Training phase\n",
        "            model.train()\n",
        "            autoencoder.eval()  # Keep autoencoder in eval mode\n",
        "            running_loss = 0.0\n",
        "            y_true = []\n",
        "            y_pred = []\n",
        "\n",
        "            for inputs, labels in tqdm(train_loader):\n",
        "                inputs, labels = inputs.to(device), labels.to(device)\n",
        "\n",
        "                # Denoise and normalize\n",
        "                inputs = denoise_images(autoencoder, inputs)\n",
        "                inputs = torch.stack([normalize(img) for img in inputs])\n",
        "\n",
        "                optimizer.zero_grad()\n",
        "                outputs = model(inputs)\n",
        "                _, preds = torch.max(outputs, 1)\n",
        "                loss = criterion(outputs, labels)\n",
        "                loss.backward()\n",
        "                optimizer.step()\n",
        "\n",
        "                running_loss += loss.item() * inputs.size(0)\n",
        "                y_true.extend(labels.cpu().numpy())\n",
        "                y_pred.extend(preds.cpu().numpy())\n",
        "\n",
        "            # Calculate top-1 accuracy\n",
        "            train_top1_acc = accuracy_score(y_true, y_pred)\n",
        "            print(f'Train Loss: {running_loss/len(train_loader.dataset):.4f} Top-1 Acc: {train_top1_acc:.4f}')\n",
        "            train_acc_history.append(train_top1_acc)\n",
        "\n",
        "            # Evaluation phase\n",
        "            model.eval()\n",
        "            y_true = []\n",
        "            y_pred = []\n",
        "\n",
        "            with torch.no_grad():\n",
        "                for inputs, labels in tqdm(test_loader):\n",
        "                    inputs, labels = inputs.to(device), labels.to(device)\n",
        "\n",
        "                    # Denoise and normalize\n",
        "                    inputs = denoise_images(autoencoder, inputs)\n",
        "                    inputs = torch.stack([normalize(img) for img in inputs])\n",
        "\n",
        "                    outputs = model(inputs)\n",
        "                    _, preds = torch.max(outputs, 1)\n",
        "\n",
        "                    y_true.extend(labels.cpu().numpy())\n",
        "                    y_pred.extend(preds.cpu().numpy())\n",
        "\n",
        "            # Calculate top-1 and average class accuracy\n",
        "            test_top1_acc = accuracy_score(y_true, y_pred)\n",
        "            avg_class_acc = calculate_class_accuracy(model, test_loader, autoencoder, num_classes)\n",
        "\n",
        "            print(f'Test Top-1 Acc: {test_top1_acc:.4f}, Avg Class Acc: {avg_class_acc:.4f}')\n",
        "            test_acc_history.append(test_top1_acc)\n",
        "            avg_class_acc_history.append(avg_class_acc)\n",
        "\n",
        "            # Check for improvement\n",
        "            if test_top1_acc > best_acc:\n",
        "                best_acc = test_top1_acc\n",
        "                epochs_no_improve = 0\n",
        "                # Save best model\n",
        "                torch.save({\n",
        "                    'model_state_dict': model.state_dict(),\n",
        "                    'autoencoder_state_dict': autoencoder.state_dict(),\n",
        "                    'optimizer_state_dict': optimizer.state_dict(),\n",
        "                    'epoch': total_epoch,\n",
        "                    'best_acc': best_acc,\n",
        "                }, 'best_model.pth')\n",
        "                print(f\"New best model saved with accuracy: {best_acc:.4f}\")\n",
        "            else:\n",
        "                epochs_no_improve += 1\n",
        "                print(f\"No improvement for {epochs_no_improve} epochs\")\n",
        "\n",
        "            scheduler.step()\n",
        "\n",
        "            # Early stopping check\n",
        "            if epochs_no_improve >= patience:\n",
        "                print(f\"Early stopping triggered!\")\n",
        "                break\n",
        "\n",
        "    print(f\"Training complete! Best accuracy: {best_acc:.4f}\")\n",
        "    return train_acc_history, test_acc_history, avg_class_acc_history, best_acc\n",
        "\n",
        "# Start training with gradual unfreezing\n",
        "train_acc_history, test_acc_history, avg_class_acc_history, best_acc = train_with_unfreezing(\n",
        "    model, autoencoder, training_stages, criterion\n",
        ")"
      ],
      "metadata": {
        "colab": {
          "base_uri": "https://localhost:8080/"
        },
        "id": "b5aGCV8IouhY",
        "outputId": "aa9840ab-f340-473b-ae24-73ced60303cd"
      },
      "execution_count": 15,
      "outputs": [
        {
          "metadata": {
            "tags": null
          },
          "name": "stdout",
          "output_type": "stream",
          "text": [
            "\n",
            "Training Stage 1: LR=0.001\n",
            "Epoch 1/50 (Stage 1)\n",
            "----------\n"
          ]
        },
        {
          "metadata": {
            "tags": null
          },
          "name": "stderr",
          "output_type": "stream",
          "text": [
            "100%|██████████| 302/302 [02:24<00:00,  2.09it/s]\n"
          ]
        },
        {
          "metadata": {
            "tags": null
          },
          "name": "stdout",
          "output_type": "stream",
          "text": [
            "Train Loss: 4.6811 Top-1 Acc: 0.1127\n"
          ]
        },
        {
          "metadata": {
            "tags": null
          },
          "name": "stderr",
          "output_type": "stream",
          "text": [
            "100%|██████████| 76/76 [00:34<00:00,  2.20it/s]\n",
            "100%|██████████| 76/76 [00:34<00:00,  2.20it/s]\n"
          ]
        },
        {
          "metadata": {
            "tags": null
          },
          "name": "stdout",
          "output_type": "stream",
          "text": [
            "Test Top-1 Acc: 0.2957, Avg Class Acc: 0.2831\n",
            "New best model saved with accuracy: 0.2957\n",
            "Epoch 2/50 (Stage 1)\n",
            "----------\n"
          ]
        },
        {
          "metadata": {
            "tags": null
          },
          "name": "stderr",
          "output_type": "stream",
          "text": [
            "100%|██████████| 302/302 [02:23<00:00,  2.10it/s]\n"
          ]
        },
        {
          "metadata": {
            "tags": null
          },
          "name": "stdout",
          "output_type": "stream",
          "text": [
            "Train Loss: 3.3905 Top-1 Acc: 0.3435\n"
          ]
        },
        {
          "metadata": {
            "tags": null
          },
          "name": "stderr",
          "output_type": "stream",
          "text": [
            "100%|██████████| 76/76 [00:34<00:00,  2.20it/s]\n",
            "100%|██████████| 76/76 [00:34<00:00,  2.21it/s]\n"
          ]
        },
        {
          "metadata": {
            "tags": null
          },
          "name": "stdout",
          "output_type": "stream",
          "text": [
            "Test Top-1 Acc: 0.3978, Avg Class Acc: 0.3850\n",
            "New best model saved with accuracy: 0.3978\n",
            "Epoch 3/50 (Stage 1)\n",
            "----------\n"
          ]
        },
        {
          "metadata": {
            "tags": null
          },
          "name": "stderr",
          "output_type": "stream",
          "text": [
            "100%|██████████| 302/302 [02:23<00:00,  2.10it/s]\n"
          ]
        },
        {
          "metadata": {
            "tags": null
          },
          "name": "stdout",
          "output_type": "stream",
          "text": [
            "Train Loss: 2.7658 Top-1 Acc: 0.4719\n"
          ]
        },
        {
          "metadata": {
            "tags": null
          },
          "name": "stderr",
          "output_type": "stream",
          "text": [
            "100%|██████████| 76/76 [00:34<00:00,  2.20it/s]\n",
            "100%|██████████| 76/76 [00:34<00:00,  2.20it/s]\n"
          ]
        },
        {
          "metadata": {
            "tags": null
          },
          "name": "stdout",
          "output_type": "stream",
          "text": [
            "Test Top-1 Acc: 0.4385, Avg Class Acc: 0.4256\n",
            "New best model saved with accuracy: 0.4385\n",
            "Epoch 4/50 (Stage 1)\n",
            "----------\n"
          ]
        },
        {
          "metadata": {
            "tags": null
          },
          "name": "stderr",
          "output_type": "stream",
          "text": [
            "100%|██████████| 302/302 [02:23<00:00,  2.11it/s]\n"
          ]
        },
        {
          "metadata": {
            "tags": null
          },
          "name": "stdout",
          "output_type": "stream",
          "text": [
            "Train Loss: 2.4004 Top-1 Acc: 0.5281\n"
          ]
        },
        {
          "metadata": {
            "tags": null
          },
          "name": "stderr",
          "output_type": "stream",
          "text": [
            "100%|██████████| 76/76 [00:34<00:00,  2.20it/s]\n",
            "100%|██████████| 76/76 [00:34<00:00,  2.19it/s]\n"
          ]
        },
        {
          "metadata": {
            "tags": null
          },
          "name": "stdout",
          "output_type": "stream",
          "text": [
            "Test Top-1 Acc: 0.4601, Avg Class Acc: 0.4478\n",
            "New best model saved with accuracy: 0.4601\n",
            "Epoch 5/50 (Stage 1)\n",
            "----------\n"
          ]
        },
        {
          "metadata": {
            "tags": null
          },
          "name": "stderr",
          "output_type": "stream",
          "text": [
            "100%|██████████| 302/302 [02:23<00:00,  2.11it/s]\n"
          ]
        },
        {
          "metadata": {
            "tags": null
          },
          "name": "stdout",
          "output_type": "stream",
          "text": [
            "Train Loss: 2.1629 Top-1 Acc: 0.5680\n"
          ]
        },
        {
          "metadata": {
            "tags": null
          },
          "name": "stderr",
          "output_type": "stream",
          "text": [
            "100%|██████████| 76/76 [00:34<00:00,  2.20it/s]\n",
            "100%|██████████| 76/76 [00:34<00:00,  2.18it/s]\n"
          ]
        },
        {
          "metadata": {
            "tags": null
          },
          "name": "stdout",
          "output_type": "stream",
          "text": [
            "Test Top-1 Acc: 0.4884, Avg Class Acc: 0.4799\n",
            "New best model saved with accuracy: 0.4884\n",
            "Epoch 6/50 (Stage 1)\n",
            "----------\n"
          ]
        },
        {
          "metadata": {
            "tags": null
          },
          "name": "stderr",
          "output_type": "stream",
          "text": [
            "100%|██████████| 302/302 [02:23<00:00,  2.10it/s]\n"
          ]
        },
        {
          "metadata": {
            "tags": null
          },
          "name": "stdout",
          "output_type": "stream",
          "text": [
            "Train Loss: 1.9879 Top-1 Acc: 0.6188\n"
          ]
        },
        {
          "metadata": {
            "tags": null
          },
          "name": "stderr",
          "output_type": "stream",
          "text": [
            "100%|██████████| 76/76 [00:34<00:00,  2.20it/s]\n",
            "100%|██████████| 76/76 [00:34<00:00,  2.20it/s]\n"
          ]
        },
        {
          "metadata": {
            "tags": null
          },
          "name": "stdout",
          "output_type": "stream",
          "text": [
            "Test Top-1 Acc: 0.5033, Avg Class Acc: 0.4956\n",
            "New best model saved with accuracy: 0.5033\n",
            "Epoch 7/50 (Stage 1)\n",
            "----------\n"
          ]
        },
        {
          "metadata": {
            "tags": null
          },
          "name": "stderr",
          "output_type": "stream",
          "text": [
            "100%|██████████| 302/302 [02:23<00:00,  2.10it/s]\n"
          ]
        },
        {
          "metadata": {
            "tags": null
          },
          "name": "stdout",
          "output_type": "stream",
          "text": [
            "Train Loss: 1.8609 Top-1 Acc: 0.6424\n"
          ]
        },
        {
          "metadata": {
            "tags": null
          },
          "name": "stderr",
          "output_type": "stream",
          "text": [
            "100%|██████████| 76/76 [00:34<00:00,  2.19it/s]\n",
            "100%|██████████| 76/76 [00:34<00:00,  2.20it/s]\n"
          ]
        },
        {
          "metadata": {
            "tags": null
          },
          "name": "stdout",
          "output_type": "stream",
          "text": [
            "Test Top-1 Acc: 0.4884, Avg Class Acc: 0.4786\n",
            "No improvement for 1 epochs\n",
            "Epoch 8/50 (Stage 1)\n",
            "----------\n"
          ]
        },
        {
          "metadata": {
            "tags": null
          },
          "name": "stderr",
          "output_type": "stream",
          "text": [
            "100%|██████████| 302/302 [02:23<00:00,  2.10it/s]\n"
          ]
        },
        {
          "metadata": {
            "tags": null
          },
          "name": "stdout",
          "output_type": "stream",
          "text": [
            "Train Loss: 1.7998 Top-1 Acc: 0.6490\n"
          ]
        },
        {
          "metadata": {
            "tags": null
          },
          "name": "stderr",
          "output_type": "stream",
          "text": [
            "100%|██████████| 76/76 [00:34<00:00,  2.20it/s]\n",
            "100%|██████████| 76/76 [00:34<00:00,  2.20it/s]\n"
          ]
        },
        {
          "metadata": {
            "tags": null
          },
          "name": "stdout",
          "output_type": "stream",
          "text": [
            "Test Top-1 Acc: 0.4983, Avg Class Acc: 0.4896\n",
            "No improvement for 2 epochs\n",
            "Epoch 9/50 (Stage 1)\n",
            "----------\n"
          ]
        },
        {
          "metadata": {
            "tags": null
          },
          "name": "stderr",
          "output_type": "stream",
          "text": [
            "100%|██████████| 302/302 [02:23<00:00,  2.10it/s]\n"
          ]
        },
        {
          "metadata": {
            "tags": null
          },
          "name": "stdout",
          "output_type": "stream",
          "text": [
            "Train Loss: 1.7666 Top-1 Acc: 0.6571\n"
          ]
        },
        {
          "metadata": {
            "tags": null
          },
          "name": "stderr",
          "output_type": "stream",
          "text": [
            "100%|██████████| 76/76 [00:34<00:00,  2.19it/s]\n",
            "100%|██████████| 76/76 [00:34<00:00,  2.18it/s]\n"
          ]
        },
        {
          "metadata": {
            "tags": null
          },
          "name": "stdout",
          "output_type": "stream",
          "text": [
            "Test Top-1 Acc: 0.5008, Avg Class Acc: 0.4919\n",
            "No improvement for 3 epochs\n",
            "Epoch 10/50 (Stage 1)\n",
            "----------\n"
          ]
        },
        {
          "metadata": {
            "tags": null
          },
          "name": "stderr",
          "output_type": "stream",
          "text": [
            "100%|██████████| 302/302 [02:23<00:00,  2.10it/s]\n"
          ]
        },
        {
          "metadata": {
            "tags": null
          },
          "name": "stdout",
          "output_type": "stream",
          "text": [
            "Train Loss: 1.7382 Top-1 Acc: 0.6714\n"
          ]
        },
        {
          "metadata": {
            "tags": null
          },
          "name": "stderr",
          "output_type": "stream",
          "text": [
            "100%|██████████| 76/76 [00:34<00:00,  2.20it/s]\n",
            "100%|██████████| 76/76 [00:34<00:00,  2.20it/s]\n"
          ]
        },
        {
          "metadata": {
            "tags": null
          },
          "name": "stdout",
          "output_type": "stream",
          "text": [
            "Test Top-1 Acc: 0.5141, Avg Class Acc: 0.5059\n",
            "New best model saved with accuracy: 0.5141\n",
            "\n",
            "Training Stage 2: LR=0.005\n",
            "Unfreezing: features.7.0.block.0.0.weight\n",
            "Unfreezing: features.7.0.block.0.1.weight\n",
            "Unfreezing: features.7.0.block.0.1.bias\n",
            "Unfreezing: features.7.0.block.1.0.weight\n",
            "Unfreezing: features.7.0.block.1.1.weight\n",
            "Unfreezing: features.7.0.block.1.1.bias\n",
            "Unfreezing: features.7.0.block.2.fc1.weight\n",
            "Unfreezing: features.7.0.block.2.fc1.bias\n",
            "Unfreezing: features.7.0.block.2.fc2.weight\n",
            "Unfreezing: features.7.0.block.2.fc2.bias\n",
            "Unfreezing: features.7.0.block.3.0.weight\n",
            "Unfreezing: features.7.0.block.3.1.weight\n",
            "Unfreezing: features.7.0.block.3.1.bias\n",
            "Unfreezing: features.7.1.block.0.0.weight\n",
            "Unfreezing: features.7.1.block.0.1.weight\n",
            "Unfreezing: features.7.1.block.0.1.bias\n",
            "Unfreezing: features.7.1.block.1.0.weight\n",
            "Unfreezing: features.7.1.block.1.1.weight\n",
            "Unfreezing: features.7.1.block.1.1.bias\n",
            "Unfreezing: features.7.1.block.2.fc1.weight\n",
            "Unfreezing: features.7.1.block.2.fc1.bias\n",
            "Unfreezing: features.7.1.block.2.fc2.weight\n",
            "Unfreezing: features.7.1.block.2.fc2.bias\n",
            "Unfreezing: features.7.1.block.3.0.weight\n",
            "Unfreezing: features.7.1.block.3.1.weight\n",
            "Unfreezing: features.7.1.block.3.1.bias\n",
            "Epoch 11/50 (Stage 2)\n",
            "----------\n"
          ]
        },
        {
          "metadata": {
            "tags": null
          },
          "name": "stderr",
          "output_type": "stream",
          "text": [
            "100%|██████████| 302/302 [02:29<00:00,  2.02it/s]\n"
          ]
        },
        {
          "metadata": {
            "tags": null
          },
          "name": "stdout",
          "output_type": "stream",
          "text": [
            "Train Loss: 2.5031 Top-1 Acc: 0.3817\n"
          ]
        },
        {
          "output_type": "stream",
          "name": "stderr",
          "text": [
            "100%|██████████| 76/76 [00:34<00:00,  2.19it/s]\n",
            "100%|██████████| 76/76 [00:34<00:00,  2.19it/s]\n"
          ]
        },
        {
          "output_type": "stream",
          "name": "stdout",
          "text": [
            "Test Top-1 Acc: 0.4801, Avg Class Acc: 0.4729\n",
            "No improvement for 1 epochs\n",
            "Epoch 12/50 (Stage 2)\n",
            "----------\n"
          ]
        },
        {
          "output_type": "stream",
          "name": "stderr",
          "text": [
            "100%|██████████| 302/302 [02:29<00:00,  2.03it/s]\n"
          ]
        },
        {
          "output_type": "stream",
          "name": "stdout",
          "text": [
            "Train Loss: 1.5851 Top-1 Acc: 0.5713\n"
          ]
        },
        {
          "output_type": "stream",
          "name": "stderr",
          "text": [
            "100%|██████████| 76/76 [00:34<00:00,  2.20it/s]\n",
            "100%|██████████| 76/76 [00:34<00:00,  2.20it/s]\n"
          ]
        },
        {
          "output_type": "stream",
          "name": "stdout",
          "text": [
            "Test Top-1 Acc: 0.5507, Avg Class Acc: 0.5473\n",
            "New best model saved with accuracy: 0.5507\n",
            "Epoch 13/50 (Stage 2)\n",
            "----------\n"
          ]
        },
        {
          "output_type": "stream",
          "name": "stderr",
          "text": [
            "100%|██████████| 302/302 [02:29<00:00,  2.02it/s]\n"
          ]
        },
        {
          "output_type": "stream",
          "name": "stdout",
          "text": [
            "Train Loss: 1.1482 Top-1 Acc: 0.6788\n"
          ]
        },
        {
          "output_type": "stream",
          "name": "stderr",
          "text": [
            "100%|██████████| 76/76 [00:34<00:00,  2.19it/s]\n",
            "100%|██████████| 76/76 [00:34<00:00,  2.20it/s]\n"
          ]
        },
        {
          "output_type": "stream",
          "name": "stdout",
          "text": [
            "Test Top-1 Acc: 0.6038, Avg Class Acc: 0.5985\n",
            "New best model saved with accuracy: 0.6038\n",
            "Epoch 14/50 (Stage 2)\n",
            "----------\n"
          ]
        },
        {
          "output_type": "stream",
          "name": "stderr",
          "text": [
            "100%|██████████| 302/302 [02:28<00:00,  2.03it/s]\n"
          ]
        },
        {
          "output_type": "stream",
          "name": "stdout",
          "text": [
            "Train Loss: 0.8397 Top-1 Acc: 0.7530\n"
          ]
        },
        {
          "output_type": "stream",
          "name": "stderr",
          "text": [
            "100%|██████████| 76/76 [00:34<00:00,  2.20it/s]\n",
            "100%|██████████| 76/76 [00:34<00:00,  2.19it/s]\n"
          ]
        },
        {
          "output_type": "stream",
          "name": "stdout",
          "text": [
            "Test Top-1 Acc: 0.6138, Avg Class Acc: 0.6054\n",
            "New best model saved with accuracy: 0.6138\n",
            "Epoch 15/50 (Stage 2)\n",
            "----------\n"
          ]
        },
        {
          "output_type": "stream",
          "name": "stderr",
          "text": [
            "100%|██████████| 302/302 [02:29<00:00,  2.02it/s]\n"
          ]
        },
        {
          "output_type": "stream",
          "name": "stdout",
          "text": [
            "Train Loss: 0.5924 Top-1 Acc: 0.8223\n"
          ]
        },
        {
          "output_type": "stream",
          "name": "stderr",
          "text": [
            "100%|██████████| 76/76 [00:34<00:00,  2.20it/s]\n",
            "100%|██████████| 76/76 [00:34<00:00,  2.20it/s]\n"
          ]
        },
        {
          "output_type": "stream",
          "name": "stdout",
          "text": [
            "Test Top-1 Acc: 0.6362, Avg Class Acc: 0.6344\n",
            "New best model saved with accuracy: 0.6362\n",
            "Epoch 16/50 (Stage 2)\n",
            "----------\n"
          ]
        },
        {
          "output_type": "stream",
          "name": "stderr",
          "text": [
            "100%|██████████| 302/302 [02:29<00:00,  2.03it/s]\n"
          ]
        },
        {
          "output_type": "stream",
          "name": "stdout",
          "text": [
            "Train Loss: 0.4402 Top-1 Acc: 0.8710\n"
          ]
        },
        {
          "output_type": "stream",
          "name": "stderr",
          "text": [
            "100%|██████████| 76/76 [00:34<00:00,  2.20it/s]\n",
            "100%|██████████| 76/76 [00:34<00:00,  2.20it/s]\n"
          ]
        },
        {
          "output_type": "stream",
          "name": "stdout",
          "text": [
            "Test Top-1 Acc: 0.6537, Avg Class Acc: 0.6484\n",
            "New best model saved with accuracy: 0.6537\n",
            "Epoch 17/50 (Stage 2)\n",
            "----------\n"
          ]
        },
        {
          "output_type": "stream",
          "name": "stderr",
          "text": [
            "100%|██████████| 302/302 [02:28<00:00,  2.03it/s]\n"
          ]
        },
        {
          "output_type": "stream",
          "name": "stdout",
          "text": [
            "Train Loss: 0.2741 Top-1 Acc: 0.9151\n"
          ]
        },
        {
          "output_type": "stream",
          "name": "stderr",
          "text": [
            "100%|██████████| 76/76 [00:34<00:00,  2.21it/s]\n",
            "100%|██████████| 76/76 [00:34<00:00,  2.19it/s]\n"
          ]
        },
        {
          "output_type": "stream",
          "name": "stdout",
          "text": [
            "Test Top-1 Acc: 0.6694, Avg Class Acc: 0.6642\n",
            "New best model saved with accuracy: 0.6694\n",
            "Epoch 18/50 (Stage 2)\n",
            "----------\n"
          ]
        },
        {
          "output_type": "stream",
          "name": "stderr",
          "text": [
            "100%|██████████| 302/302 [02:29<00:00,  2.03it/s]\n"
          ]
        },
        {
          "output_type": "stream",
          "name": "stdout",
          "text": [
            "Train Loss: 0.2230 Top-1 Acc: 0.9399\n"
          ]
        },
        {
          "output_type": "stream",
          "name": "stderr",
          "text": [
            "100%|██████████| 76/76 [00:34<00:00,  2.19it/s]\n",
            "100%|██████████| 76/76 [00:34<00:00,  2.20it/s]\n"
          ]
        },
        {
          "output_type": "stream",
          "name": "stdout",
          "text": [
            "Test Top-1 Acc: 0.6836, Avg Class Acc: 0.6778\n",
            "New best model saved with accuracy: 0.6836\n",
            "Epoch 19/50 (Stage 2)\n",
            "----------\n"
          ]
        },
        {
          "output_type": "stream",
          "name": "stderr",
          "text": [
            "100%|██████████| 302/302 [02:28<00:00,  2.03it/s]\n"
          ]
        },
        {
          "output_type": "stream",
          "name": "stdout",
          "text": [
            "Train Loss: 0.1726 Top-1 Acc: 0.9534\n"
          ]
        },
        {
          "output_type": "stream",
          "name": "stderr",
          "text": [
            "100%|██████████| 76/76 [00:34<00:00,  2.20it/s]\n",
            "100%|██████████| 76/76 [00:34<00:00,  2.19it/s]\n"
          ]
        },
        {
          "output_type": "stream",
          "name": "stdout",
          "text": [
            "Test Top-1 Acc: 0.6952, Avg Class Acc: 0.6910\n",
            "New best model saved with accuracy: 0.6952\n",
            "Epoch 20/50 (Stage 2)\n",
            "----------\n"
          ]
        },
        {
          "output_type": "stream",
          "name": "stderr",
          "text": [
            "100%|██████████| 302/302 [02:28<00:00,  2.03it/s]\n"
          ]
        },
        {
          "output_type": "stream",
          "name": "stdout",
          "text": [
            "Train Loss: 0.1450 Top-1 Acc: 0.9627\n"
          ]
        },
        {
          "output_type": "stream",
          "name": "stderr",
          "text": [
            "100%|██████████| 76/76 [00:34<00:00,  2.20it/s]\n",
            "100%|██████████| 76/76 [00:34<00:00,  2.20it/s]\n"
          ]
        },
        {
          "output_type": "stream",
          "name": "stdout",
          "text": [
            "Test Top-1 Acc: 0.7002, Avg Class Acc: 0.6958\n",
            "New best model saved with accuracy: 0.7002\n",
            "\n",
            "Training Stage 3: LR=0.0001\n",
            "Unfreezing: features.6.0.block.0.0.weight\n",
            "Unfreezing: features.6.0.block.0.1.weight\n",
            "Unfreezing: features.6.0.block.0.1.bias\n",
            "Unfreezing: features.6.0.block.1.0.weight\n",
            "Unfreezing: features.6.0.block.1.1.weight\n",
            "Unfreezing: features.6.0.block.1.1.bias\n",
            "Unfreezing: features.6.0.block.2.fc1.weight\n",
            "Unfreezing: features.6.0.block.2.fc1.bias\n",
            "Unfreezing: features.6.0.block.2.fc2.weight\n",
            "Unfreezing: features.6.0.block.2.fc2.bias\n",
            "Unfreezing: features.6.0.block.3.0.weight\n",
            "Unfreezing: features.6.0.block.3.1.weight\n",
            "Unfreezing: features.6.0.block.3.1.bias\n",
            "Unfreezing: features.6.1.block.0.0.weight\n",
            "Unfreezing: features.6.1.block.0.1.weight\n",
            "Unfreezing: features.6.1.block.0.1.bias\n",
            "Unfreezing: features.6.1.block.1.0.weight\n",
            "Unfreezing: features.6.1.block.1.1.weight\n",
            "Unfreezing: features.6.1.block.1.1.bias\n",
            "Unfreezing: features.6.1.block.2.fc1.weight\n",
            "Unfreezing: features.6.1.block.2.fc1.bias\n",
            "Unfreezing: features.6.1.block.2.fc2.weight\n",
            "Unfreezing: features.6.1.block.2.fc2.bias\n",
            "Unfreezing: features.6.1.block.3.0.weight\n",
            "Unfreezing: features.6.1.block.3.1.weight\n",
            "Unfreezing: features.6.1.block.3.1.bias\n",
            "Unfreezing: features.6.2.block.0.0.weight\n",
            "Unfreezing: features.6.2.block.0.1.weight\n",
            "Unfreezing: features.6.2.block.0.1.bias\n",
            "Unfreezing: features.6.2.block.1.0.weight\n",
            "Unfreezing: features.6.2.block.1.1.weight\n",
            "Unfreezing: features.6.2.block.1.1.bias\n",
            "Unfreezing: features.6.2.block.2.fc1.weight\n",
            "Unfreezing: features.6.2.block.2.fc1.bias\n",
            "Unfreezing: features.6.2.block.2.fc2.weight\n",
            "Unfreezing: features.6.2.block.2.fc2.bias\n",
            "Unfreezing: features.6.2.block.3.0.weight\n",
            "Unfreezing: features.6.2.block.3.1.weight\n",
            "Unfreezing: features.6.2.block.3.1.bias\n",
            "Unfreezing: features.6.3.block.0.0.weight\n",
            "Unfreezing: features.6.3.block.0.1.weight\n",
            "Unfreezing: features.6.3.block.0.1.bias\n",
            "Unfreezing: features.6.3.block.1.0.weight\n",
            "Unfreezing: features.6.3.block.1.1.weight\n",
            "Unfreezing: features.6.3.block.1.1.bias\n",
            "Unfreezing: features.6.3.block.2.fc1.weight\n",
            "Unfreezing: features.6.3.block.2.fc1.bias\n",
            "Unfreezing: features.6.3.block.2.fc2.weight\n",
            "Unfreezing: features.6.3.block.2.fc2.bias\n",
            "Unfreezing: features.6.3.block.3.0.weight\n",
            "Unfreezing: features.6.3.block.3.1.weight\n",
            "Unfreezing: features.6.3.block.3.1.bias\n",
            "Unfreezing: features.6.4.block.0.0.weight\n",
            "Unfreezing: features.6.4.block.0.1.weight\n",
            "Unfreezing: features.6.4.block.0.1.bias\n",
            "Unfreezing: features.6.4.block.1.0.weight\n",
            "Unfreezing: features.6.4.block.1.1.weight\n",
            "Unfreezing: features.6.4.block.1.1.bias\n",
            "Unfreezing: features.6.4.block.2.fc1.weight\n",
            "Unfreezing: features.6.4.block.2.fc1.bias\n",
            "Unfreezing: features.6.4.block.2.fc2.weight\n",
            "Unfreezing: features.6.4.block.2.fc2.bias\n",
            "Unfreezing: features.6.4.block.3.0.weight\n",
            "Unfreezing: features.6.4.block.3.1.weight\n",
            "Unfreezing: features.6.4.block.3.1.bias\n",
            "Unfreezing: features.6.5.block.0.0.weight\n",
            "Unfreezing: features.6.5.block.0.1.weight\n",
            "Unfreezing: features.6.5.block.0.1.bias\n",
            "Unfreezing: features.6.5.block.1.0.weight\n",
            "Unfreezing: features.6.5.block.1.1.weight\n",
            "Unfreezing: features.6.5.block.1.1.bias\n",
            "Unfreezing: features.6.5.block.2.fc1.weight\n",
            "Unfreezing: features.6.5.block.2.fc1.bias\n",
            "Unfreezing: features.6.5.block.2.fc2.weight\n",
            "Unfreezing: features.6.5.block.2.fc2.bias\n",
            "Unfreezing: features.6.5.block.3.0.weight\n",
            "Unfreezing: features.6.5.block.3.1.weight\n",
            "Unfreezing: features.6.5.block.3.1.bias\n",
            "Epoch 21/50 (Stage 3)\n",
            "----------\n"
          ]
        },
        {
          "output_type": "stream",
          "name": "stderr",
          "text": [
            "100%|██████████| 302/302 [02:39<00:00,  1.89it/s]\n"
          ]
        },
        {
          "output_type": "stream",
          "name": "stdout",
          "text": [
            "Train Loss: 0.1387 Top-1 Acc: 0.9633\n"
          ]
        },
        {
          "output_type": "stream",
          "name": "stderr",
          "text": [
            "100%|██████████| 76/76 [00:34<00:00,  2.19it/s]\n",
            "100%|██████████| 76/76 [00:34<00:00,  2.20it/s]\n"
          ]
        },
        {
          "output_type": "stream",
          "name": "stdout",
          "text": [
            "Test Top-1 Acc: 0.7051, Avg Class Acc: 0.7011\n",
            "New best model saved with accuracy: 0.7051\n",
            "Epoch 22/50 (Stage 3)\n",
            "----------\n"
          ]
        },
        {
          "output_type": "stream",
          "name": "stderr",
          "text": [
            "100%|██████████| 302/302 [02:39<00:00,  1.89it/s]\n"
          ]
        },
        {
          "output_type": "stream",
          "name": "stdout",
          "text": [
            "Train Loss: 0.1280 Top-1 Acc: 0.9642\n"
          ]
        },
        {
          "output_type": "stream",
          "name": "stderr",
          "text": [
            "100%|██████████| 76/76 [00:34<00:00,  2.20it/s]\n",
            "100%|██████████| 76/76 [00:34<00:00,  2.20it/s]\n"
          ]
        },
        {
          "output_type": "stream",
          "name": "stdout",
          "text": [
            "Test Top-1 Acc: 0.7110, Avg Class Acc: 0.7062\n",
            "New best model saved with accuracy: 0.7110\n",
            "Epoch 23/50 (Stage 3)\n",
            "----------\n"
          ]
        },
        {
          "output_type": "stream",
          "name": "stderr",
          "text": [
            "100%|██████████| 302/302 [02:39<00:00,  1.89it/s]\n"
          ]
        },
        {
          "output_type": "stream",
          "name": "stdout",
          "text": [
            "Train Loss: 0.1042 Top-1 Acc: 0.9720\n"
          ]
        },
        {
          "output_type": "stream",
          "name": "stderr",
          "text": [
            "100%|██████████| 76/76 [00:34<00:00,  2.20it/s]\n",
            "100%|██████████| 76/76 [00:34<00:00,  2.19it/s]\n"
          ]
        },
        {
          "output_type": "stream",
          "name": "stdout",
          "text": [
            "Test Top-1 Acc: 0.7043, Avg Class Acc: 0.7004\n",
            "No improvement for 1 epochs\n",
            "Epoch 24/50 (Stage 3)\n",
            "----------\n"
          ]
        },
        {
          "output_type": "stream",
          "name": "stderr",
          "text": [
            "100%|██████████| 302/302 [02:39<00:00,  1.89it/s]\n"
          ]
        },
        {
          "output_type": "stream",
          "name": "stdout",
          "text": [
            "Train Loss: 0.0992 Top-1 Acc: 0.9733\n"
          ]
        },
        {
          "output_type": "stream",
          "name": "stderr",
          "text": [
            "100%|██████████| 76/76 [00:34<00:00,  2.20it/s]\n",
            "100%|██████████| 76/76 [00:34<00:00,  2.20it/s]\n"
          ]
        },
        {
          "output_type": "stream",
          "name": "stdout",
          "text": [
            "Test Top-1 Acc: 0.7143, Avg Class Acc: 0.7094\n",
            "New best model saved with accuracy: 0.7143\n",
            "Epoch 25/50 (Stage 3)\n",
            "----------\n"
          ]
        },
        {
          "output_type": "stream",
          "name": "stderr",
          "text": [
            "100%|██████████| 302/302 [02:39<00:00,  1.89it/s]\n"
          ]
        },
        {
          "output_type": "stream",
          "name": "stdout",
          "text": [
            "Train Loss: 0.0826 Top-1 Acc: 0.9797\n"
          ]
        },
        {
          "output_type": "stream",
          "name": "stderr",
          "text": [
            "100%|██████████| 76/76 [00:34<00:00,  2.20it/s]\n",
            "100%|██████████| 76/76 [00:34<00:00,  2.20it/s]\n"
          ]
        },
        {
          "output_type": "stream",
          "name": "stdout",
          "text": [
            "Test Top-1 Acc: 0.7176, Avg Class Acc: 0.7108\n",
            "New best model saved with accuracy: 0.7176\n",
            "Epoch 26/50 (Stage 3)\n",
            "----------\n"
          ]
        },
        {
          "output_type": "stream",
          "name": "stderr",
          "text": [
            "100%|██████████| 302/302 [02:40<00:00,  1.89it/s]\n"
          ]
        },
        {
          "output_type": "stream",
          "name": "stdout",
          "text": [
            "Train Loss: 0.0794 Top-1 Acc: 0.9816\n"
          ]
        },
        {
          "output_type": "stream",
          "name": "stderr",
          "text": [
            "100%|██████████| 76/76 [00:34<00:00,  2.19it/s]\n",
            "100%|██████████| 76/76 [00:34<00:00,  2.20it/s]\n"
          ]
        },
        {
          "output_type": "stream",
          "name": "stdout",
          "text": [
            "Test Top-1 Acc: 0.7184, Avg Class Acc: 0.7117\n",
            "New best model saved with accuracy: 0.7184\n",
            "Epoch 27/50 (Stage 3)\n",
            "----------\n"
          ]
        },
        {
          "output_type": "stream",
          "name": "stderr",
          "text": [
            "100%|██████████| 302/302 [02:39<00:00,  1.89it/s]\n"
          ]
        },
        {
          "output_type": "stream",
          "name": "stdout",
          "text": [
            "Train Loss: 0.0661 Top-1 Acc: 0.9855\n"
          ]
        },
        {
          "output_type": "stream",
          "name": "stderr",
          "text": [
            "100%|██████████| 76/76 [00:34<00:00,  2.21it/s]\n",
            "100%|██████████| 76/76 [00:34<00:00,  2.20it/s]\n"
          ]
        },
        {
          "output_type": "stream",
          "name": "stdout",
          "text": [
            "Test Top-1 Acc: 0.7193, Avg Class Acc: 0.7127\n",
            "New best model saved with accuracy: 0.7193\n",
            "Epoch 28/50 (Stage 3)\n",
            "----------\n"
          ]
        },
        {
          "output_type": "stream",
          "name": "stderr",
          "text": [
            "100%|██████████| 302/302 [02:39<00:00,  1.89it/s]\n"
          ]
        },
        {
          "output_type": "stream",
          "name": "stdout",
          "text": [
            "Train Loss: 0.0743 Top-1 Acc: 0.9812\n"
          ]
        },
        {
          "output_type": "stream",
          "name": "stderr",
          "text": [
            "100%|██████████| 76/76 [00:34<00:00,  2.20it/s]\n",
            "100%|██████████| 76/76 [00:34<00:00,  2.18it/s]\n"
          ]
        },
        {
          "output_type": "stream",
          "name": "stdout",
          "text": [
            "Test Top-1 Acc: 0.7317, Avg Class Acc: 0.7260\n",
            "New best model saved with accuracy: 0.7317\n",
            "Epoch 29/50 (Stage 3)\n",
            "----------\n"
          ]
        },
        {
          "output_type": "stream",
          "name": "stderr",
          "text": [
            "100%|██████████| 302/302 [02:39<00:00,  1.89it/s]\n"
          ]
        },
        {
          "output_type": "stream",
          "name": "stdout",
          "text": [
            "Train Loss: 0.0660 Top-1 Acc: 0.9845\n"
          ]
        },
        {
          "output_type": "stream",
          "name": "stderr",
          "text": [
            "100%|██████████| 76/76 [00:34<00:00,  2.20it/s]\n",
            "100%|██████████| 76/76 [00:34<00:00,  2.20it/s]\n"
          ]
        },
        {
          "output_type": "stream",
          "name": "stdout",
          "text": [
            "Test Top-1 Acc: 0.7135, Avg Class Acc: 0.7078\n",
            "No improvement for 1 epochs\n",
            "Epoch 30/50 (Stage 3)\n",
            "----------\n"
          ]
        },
        {
          "output_type": "stream",
          "name": "stderr",
          "text": [
            "100%|██████████| 302/302 [02:39<00:00,  1.89it/s]\n"
          ]
        },
        {
          "output_type": "stream",
          "name": "stdout",
          "text": [
            "Train Loss: 0.0699 Top-1 Acc: 0.9832\n"
          ]
        },
        {
          "output_type": "stream",
          "name": "stderr",
          "text": [
            "100%|██████████| 76/76 [00:34<00:00,  2.20it/s]\n",
            "100%|██████████| 76/76 [00:34<00:00,  2.19it/s]\n"
          ]
        },
        {
          "output_type": "stream",
          "name": "stdout",
          "text": [
            "Test Top-1 Acc: 0.7085, Avg Class Acc: 0.7021\n",
            "No improvement for 2 epochs\n",
            "\n",
            "Training Stage 4: LR=0.0005\n",
            "Unfreezing: features.5.0.block.0.0.weight\n",
            "Unfreezing: features.5.0.block.0.1.weight\n",
            "Unfreezing: features.5.0.block.0.1.bias\n",
            "Unfreezing: features.5.0.block.1.0.weight\n",
            "Unfreezing: features.5.0.block.1.1.weight\n",
            "Unfreezing: features.5.0.block.1.1.bias\n",
            "Unfreezing: features.5.0.block.2.fc1.weight\n",
            "Unfreezing: features.5.0.block.2.fc1.bias\n",
            "Unfreezing: features.5.0.block.2.fc2.weight\n",
            "Unfreezing: features.5.0.block.2.fc2.bias\n",
            "Unfreezing: features.5.0.block.3.0.weight\n",
            "Unfreezing: features.5.0.block.3.1.weight\n",
            "Unfreezing: features.5.0.block.3.1.bias\n",
            "Unfreezing: features.5.1.block.0.0.weight\n",
            "Unfreezing: features.5.1.block.0.1.weight\n",
            "Unfreezing: features.5.1.block.0.1.bias\n",
            "Unfreezing: features.5.1.block.1.0.weight\n",
            "Unfreezing: features.5.1.block.1.1.weight\n",
            "Unfreezing: features.5.1.block.1.1.bias\n",
            "Unfreezing: features.5.1.block.2.fc1.weight\n",
            "Unfreezing: features.5.1.block.2.fc1.bias\n",
            "Unfreezing: features.5.1.block.2.fc2.weight\n",
            "Unfreezing: features.5.1.block.2.fc2.bias\n",
            "Unfreezing: features.5.1.block.3.0.weight\n",
            "Unfreezing: features.5.1.block.3.1.weight\n",
            "Unfreezing: features.5.1.block.3.1.bias\n",
            "Unfreezing: features.5.2.block.0.0.weight\n",
            "Unfreezing: features.5.2.block.0.1.weight\n",
            "Unfreezing: features.5.2.block.0.1.bias\n",
            "Unfreezing: features.5.2.block.1.0.weight\n",
            "Unfreezing: features.5.2.block.1.1.weight\n",
            "Unfreezing: features.5.2.block.1.1.bias\n",
            "Unfreezing: features.5.2.block.2.fc1.weight\n",
            "Unfreezing: features.5.2.block.2.fc1.bias\n",
            "Unfreezing: features.5.2.block.2.fc2.weight\n",
            "Unfreezing: features.5.2.block.2.fc2.bias\n",
            "Unfreezing: features.5.2.block.3.0.weight\n",
            "Unfreezing: features.5.2.block.3.1.weight\n",
            "Unfreezing: features.5.2.block.3.1.bias\n",
            "Unfreezing: features.5.3.block.0.0.weight\n",
            "Unfreezing: features.5.3.block.0.1.weight\n",
            "Unfreezing: features.5.3.block.0.1.bias\n",
            "Unfreezing: features.5.3.block.1.0.weight\n",
            "Unfreezing: features.5.3.block.1.1.weight\n",
            "Unfreezing: features.5.3.block.1.1.bias\n",
            "Unfreezing: features.5.3.block.2.fc1.weight\n",
            "Unfreezing: features.5.3.block.2.fc1.bias\n",
            "Unfreezing: features.5.3.block.2.fc2.weight\n",
            "Unfreezing: features.5.3.block.2.fc2.bias\n",
            "Unfreezing: features.5.3.block.3.0.weight\n",
            "Unfreezing: features.5.3.block.3.1.weight\n",
            "Unfreezing: features.5.3.block.3.1.bias\n",
            "Unfreezing: features.5.4.block.0.0.weight\n",
            "Unfreezing: features.5.4.block.0.1.weight\n",
            "Unfreezing: features.5.4.block.0.1.bias\n",
            "Unfreezing: features.5.4.block.1.0.weight\n",
            "Unfreezing: features.5.4.block.1.1.weight\n",
            "Unfreezing: features.5.4.block.1.1.bias\n",
            "Unfreezing: features.5.4.block.2.fc1.weight\n",
            "Unfreezing: features.5.4.block.2.fc1.bias\n",
            "Unfreezing: features.5.4.block.2.fc2.weight\n",
            "Unfreezing: features.5.4.block.2.fc2.bias\n",
            "Unfreezing: features.5.4.block.3.0.weight\n",
            "Unfreezing: features.5.4.block.3.1.weight\n",
            "Unfreezing: features.5.4.block.3.1.bias\n",
            "Epoch 31/50 (Stage 4)\n",
            "----------\n"
          ]
        },
        {
          "output_type": "stream",
          "name": "stderr",
          "text": [
            "100%|██████████| 302/302 [02:55<00:00,  1.72it/s]\n"
          ]
        },
        {
          "output_type": "stream",
          "name": "stdout",
          "text": [
            "Train Loss: 0.2284 Top-1 Acc: 0.9331\n"
          ]
        },
        {
          "output_type": "stream",
          "name": "stderr",
          "text": [
            "100%|██████████| 76/76 [00:34<00:00,  2.20it/s]\n",
            "100%|██████████| 76/76 [00:34<00:00,  2.19it/s]\n"
          ]
        },
        {
          "output_type": "stream",
          "name": "stdout",
          "text": [
            "Test Top-1 Acc: 0.6752, Avg Class Acc: 0.6713\n",
            "No improvement for 3 epochs\n",
            "Epoch 32/50 (Stage 4)\n",
            "----------\n"
          ]
        },
        {
          "output_type": "stream",
          "name": "stderr",
          "text": [
            "100%|██████████| 302/302 [02:55<00:00,  1.72it/s]\n"
          ]
        },
        {
          "output_type": "stream",
          "name": "stdout",
          "text": [
            "Train Loss: 0.1772 Top-1 Acc: 0.9474\n"
          ]
        },
        {
          "output_type": "stream",
          "name": "stderr",
          "text": [
            "100%|██████████| 76/76 [00:34<00:00,  2.19it/s]\n",
            "100%|██████████| 76/76 [00:34<00:00,  2.19it/s]\n"
          ]
        },
        {
          "output_type": "stream",
          "name": "stdout",
          "text": [
            "Test Top-1 Acc: 0.6927, Avg Class Acc: 0.6857\n",
            "No improvement for 4 epochs\n",
            "Epoch 33/50 (Stage 4)\n",
            "----------\n"
          ]
        },
        {
          "output_type": "stream",
          "name": "stderr",
          "text": [
            "100%|██████████| 302/302 [02:55<00:00,  1.72it/s]\n"
          ]
        },
        {
          "output_type": "stream",
          "name": "stdout",
          "text": [
            "Train Loss: 0.1393 Top-1 Acc: 0.9619\n"
          ]
        },
        {
          "output_type": "stream",
          "name": "stderr",
          "text": [
            "100%|██████████| 76/76 [00:34<00:00,  2.20it/s]\n",
            "100%|██████████| 76/76 [00:34<00:00,  2.19it/s]\n"
          ]
        },
        {
          "output_type": "stream",
          "name": "stdout",
          "text": [
            "Test Top-1 Acc: 0.6827, Avg Class Acc: 0.6804\n",
            "No improvement for 5 epochs\n",
            "Epoch 34/50 (Stage 4)\n",
            "----------\n"
          ]
        },
        {
          "output_type": "stream",
          "name": "stderr",
          "text": [
            "100%|██████████| 302/302 [02:55<00:00,  1.72it/s]\n"
          ]
        },
        {
          "output_type": "stream",
          "name": "stdout",
          "text": [
            "Train Loss: 0.1399 Top-1 Acc: 0.9588\n"
          ]
        },
        {
          "output_type": "stream",
          "name": "stderr",
          "text": [
            "100%|██████████| 76/76 [00:34<00:00,  2.20it/s]\n",
            "100%|██████████| 76/76 [00:34<00:00,  2.20it/s]\n"
          ]
        },
        {
          "output_type": "stream",
          "name": "stdout",
          "text": [
            "Test Top-1 Acc: 0.7010, Avg Class Acc: 0.6983\n",
            "No improvement for 6 epochs\n",
            "Epoch 35/50 (Stage 4)\n",
            "----------\n"
          ]
        },
        {
          "output_type": "stream",
          "name": "stderr",
          "text": [
            "100%|██████████| 302/302 [02:55<00:00,  1.73it/s]\n"
          ]
        },
        {
          "output_type": "stream",
          "name": "stdout",
          "text": [
            "Train Loss: 0.1187 Top-1 Acc: 0.9689\n"
          ]
        },
        {
          "output_type": "stream",
          "name": "stderr",
          "text": [
            "100%|██████████| 76/76 [00:34<00:00,  2.20it/s]\n",
            "100%|██████████| 76/76 [00:34<00:00,  2.20it/s]\n"
          ]
        },
        {
          "output_type": "stream",
          "name": "stdout",
          "text": [
            "Test Top-1 Acc: 0.6869, Avg Class Acc: 0.6796\n",
            "No improvement for 7 epochs\n",
            "Epoch 36/50 (Stage 4)\n",
            "----------\n"
          ]
        },
        {
          "output_type": "stream",
          "name": "stderr",
          "text": [
            "100%|██████████| 302/302 [02:55<00:00,  1.72it/s]\n"
          ]
        },
        {
          "output_type": "stream",
          "name": "stdout",
          "text": [
            "Train Loss: 0.0929 Top-1 Acc: 0.9735\n"
          ]
        },
        {
          "output_type": "stream",
          "name": "stderr",
          "text": [
            "100%|██████████| 76/76 [00:34<00:00,  2.20it/s]\n",
            "100%|██████████| 76/76 [00:34<00:00,  2.19it/s]\n"
          ]
        },
        {
          "output_type": "stream",
          "name": "stdout",
          "text": [
            "Test Top-1 Acc: 0.6935, Avg Class Acc: 0.6886\n",
            "No improvement for 8 epochs\n",
            "Epoch 37/50 (Stage 4)\n",
            "----------\n"
          ]
        },
        {
          "output_type": "stream",
          "name": "stderr",
          "text": [
            "100%|██████████| 302/302 [02:55<00:00,  1.72it/s]\n"
          ]
        },
        {
          "output_type": "stream",
          "name": "stdout",
          "text": [
            "Train Loss: 0.0832 Top-1 Acc: 0.9783\n"
          ]
        },
        {
          "output_type": "stream",
          "name": "stderr",
          "text": [
            "100%|██████████| 76/76 [00:34<00:00,  2.20it/s]\n",
            "100%|██████████| 76/76 [00:34<00:00,  2.19it/s]\n"
          ]
        },
        {
          "output_type": "stream",
          "name": "stdout",
          "text": [
            "Test Top-1 Acc: 0.6985, Avg Class Acc: 0.6934\n",
            "No improvement for 9 epochs\n",
            "Epoch 38/50 (Stage 4)\n",
            "----------\n"
          ]
        },
        {
          "output_type": "stream",
          "name": "stderr",
          "text": [
            "100%|██████████| 302/302 [02:54<00:00,  1.73it/s]\n"
          ]
        },
        {
          "output_type": "stream",
          "name": "stdout",
          "text": [
            "Train Loss: 0.0816 Top-1 Acc: 0.9793\n"
          ]
        },
        {
          "output_type": "stream",
          "name": "stderr",
          "text": [
            "100%|██████████| 76/76 [00:34<00:00,  2.20it/s]\n",
            "100%|██████████| 76/76 [00:34<00:00,  2.20it/s]\n"
          ]
        },
        {
          "output_type": "stream",
          "name": "stdout",
          "text": [
            "Test Top-1 Acc: 0.7093, Avg Class Acc: 0.7055\n",
            "No improvement for 10 epochs\n",
            "Epoch 39/50 (Stage 4)\n",
            "----------\n"
          ]
        },
        {
          "output_type": "stream",
          "name": "stderr",
          "text": [
            "100%|██████████| 302/302 [02:54<00:00,  1.73it/s]\n"
          ]
        },
        {
          "output_type": "stream",
          "name": "stdout",
          "text": [
            "Train Loss: 0.0778 Top-1 Acc: 0.9791\n"
          ]
        },
        {
          "output_type": "stream",
          "name": "stderr",
          "text": [
            "100%|██████████| 76/76 [00:34<00:00,  2.20it/s]\n",
            "100%|██████████| 76/76 [00:34<00:00,  2.20it/s]\n"
          ]
        },
        {
          "output_type": "stream",
          "name": "stdout",
          "text": [
            "Test Top-1 Acc: 0.6927, Avg Class Acc: 0.6868\n",
            "No improvement for 11 epochs\n",
            "Epoch 40/50 (Stage 4)\n",
            "----------\n"
          ]
        },
        {
          "output_type": "stream",
          "name": "stderr",
          "text": [
            "100%|██████████| 302/302 [02:54<00:00,  1.73it/s]\n"
          ]
        },
        {
          "output_type": "stream",
          "name": "stdout",
          "text": [
            "Train Loss: 0.0658 Top-1 Acc: 0.9818\n"
          ]
        },
        {
          "output_type": "stream",
          "name": "stderr",
          "text": [
            "100%|██████████| 76/76 [00:34<00:00,  2.20it/s]\n",
            "100%|██████████| 76/76 [00:34<00:00,  2.19it/s]\n"
          ]
        },
        {
          "output_type": "stream",
          "name": "stdout",
          "text": [
            "Test Top-1 Acc: 0.7193, Avg Class Acc: 0.7128\n",
            "No improvement for 12 epochs\n",
            "Epoch 41/50 (Stage 4)\n",
            "----------\n"
          ]
        },
        {
          "output_type": "stream",
          "name": "stderr",
          "text": [
            "100%|██████████| 302/302 [02:55<00:00,  1.72it/s]\n"
          ]
        },
        {
          "output_type": "stream",
          "name": "stdout",
          "text": [
            "Train Loss: 0.0784 Top-1 Acc: 0.9803\n"
          ]
        },
        {
          "output_type": "stream",
          "name": "stderr",
          "text": [
            "100%|██████████| 76/76 [00:34<00:00,  2.20it/s]\n",
            "100%|██████████| 76/76 [00:34<00:00,  2.20it/s]\n"
          ]
        },
        {
          "output_type": "stream",
          "name": "stdout",
          "text": [
            "Test Top-1 Acc: 0.7068, Avg Class Acc: 0.7025\n",
            "No improvement for 13 epochs\n",
            "Epoch 42/50 (Stage 4)\n",
            "----------\n"
          ]
        },
        {
          "output_type": "stream",
          "name": "stderr",
          "text": [
            "100%|██████████| 302/302 [02:55<00:00,  1.72it/s]\n"
          ]
        },
        {
          "output_type": "stream",
          "name": "stdout",
          "text": [
            "Train Loss: 0.0730 Top-1 Acc: 0.9816\n"
          ]
        },
        {
          "output_type": "stream",
          "name": "stderr",
          "text": [
            "100%|██████████| 76/76 [00:34<00:00,  2.20it/s]\n",
            "100%|██████████| 76/76 [00:34<00:00,  2.20it/s]\n"
          ]
        },
        {
          "output_type": "stream",
          "name": "stdout",
          "text": [
            "Test Top-1 Acc: 0.7076, Avg Class Acc: 0.7040\n",
            "No improvement for 14 epochs\n",
            "Epoch 43/50 (Stage 4)\n",
            "----------\n"
          ]
        },
        {
          "output_type": "stream",
          "name": "stderr",
          "text": [
            "100%|██████████| 302/302 [02:55<00:00,  1.72it/s]\n"
          ]
        },
        {
          "output_type": "stream",
          "name": "stdout",
          "text": [
            "Train Loss: 0.0679 Top-1 Acc: 0.9807\n"
          ]
        },
        {
          "output_type": "stream",
          "name": "stderr",
          "text": [
            "100%|██████████| 76/76 [00:34<00:00,  2.20it/s]\n",
            "100%|██████████| 76/76 [00:34<00:00,  2.18it/s]"
          ]
        },
        {
          "output_type": "stream",
          "name": "stdout",
          "text": [
            "Test Top-1 Acc: 0.7143, Avg Class Acc: 0.7112\n",
            "No improvement for 15 epochs\n",
            "Early stopping triggered!\n",
            "Training complete! Best accuracy: 0.7317\n"
          ]
        },
        {
          "output_type": "stream",
          "name": "stderr",
          "text": [
            "\n"
          ]
        }
      ]
    },
    {
      "cell_type": "code",
      "source": [
        "# Plot Results\n",
        "def plot_results(train_acc_history, test_acc_history, avg_class_acc_history):\n",
        "    plt.figure(figsize=(15, 10))\n",
        "\n",
        "    plt.subplot(2, 1, 1)\n",
        "    plt.plot(range(1, len(train_acc_history) + 1), train_acc_history, label='Training Top-1 Accuracy')\n",
        "    plt.plot(range(1, len(test_acc_history) + 1), test_acc_history, label='Testing Top-1 Accuracy')\n",
        "    plt.xlabel('Epochs')\n",
        "    plt.ylabel('Top-1 Accuracy')\n",
        "    plt.title('Training vs. Testing Top-1 Accuracy')\n",
        "    plt.legend()\n",
        "    plt.grid(True)\n",
        "\n",
        "    plt.subplot(2, 1, 2)\n",
        "    plt.plot(range(1, len(avg_class_acc_history) + 1), avg_class_acc_history, label='Average Class Accuracy', color='green')\n",
        "    plt.xlabel('Epochs')\n",
        "    plt.ylabel('Average Class Accuracy')\n",
        "    plt.title('Average Class Accuracy Over Time')\n",
        "    plt.legend()\n",
        "    plt.grid(True)\n",
        "\n",
        "    plt.tight_layout()\n",
        "    plt.savefig('accuracy_plots.png')\n",
        "    plt.show()\n",
        "\n",
        "# Plot the results\n",
        "plot_results(train_acc_history, test_acc_history, avg_class_acc_history)"
      ],
      "metadata": {
        "id": "E29libehpAA4",
        "colab": {
          "base_uri": "https://localhost:8080/",
          "height": 799
        },
        "outputId": "70fadbc0-3caa-4b77-ea05-352ab4ca2696"
      },
      "execution_count": 16,
      "outputs": [
        {
          "output_type": "display_data",
          "data": {
            "text/plain": [
              "<Figure size 1500x1000 with 2 Axes>"
            ],
            "image/png": "[encoded data removed]"
          },
          "metadata": {}
        }
      ]
    },
    {
      "cell_type": "code",
      "source": [
        "# Load best model for final evaluation\n",
        "def evaluate_best_model():\n",
        "    # Load best model\n",
        "    checkpoint = torch.load('best_model.pth')\n",
        "    model = models.efficientnet_b3(weights='DEFAULT')\n",
        "    num_ftrs = model.classifier[1].in_features\n",
        "    model.classifier[1] = nn.Linear(num_ftrs, num_classes)\n",
        "    model.load_state_dict(checkpoint['model_state_dict'])\n",
        "    model = model.to(device)\n",
        "\n",
        "    autoencoder = ImprovedAutoencoder().to(device)\n",
        "    autoencoder.load_state_dict(checkpoint['autoencoder_state_dict'])\n",
        "\n",
        "    # Final evaluation\n",
        "    model.eval()\n",
        "    autoencoder.eval()\n",
        "    y_true = []\n",
        "    y_pred = []\n",
        "\n",
        "    with torch.no_grad():\n",
        "        for inputs, labels in tqdm(test_loader):\n",
        "            inputs, labels = inputs.to(device), labels.to(device)\n",
        "\n",
        "            # Denoise and normalize\n",
        "            inputs = denoise_images(autoencoder, inputs)\n",
        "            inputs = torch.stack([normalize(img) for img in inputs])\n",
        "\n",
        "            outputs = model(inputs)\n",
        "            _, preds = torch.max(outputs, 1)\n",
        "\n",
        "            y_true.extend(labels.cpu().numpy())\n",
        "            y_pred.extend(preds.cpu().numpy())\n",
        "\n",
        "    final_top1_acc = accuracy_score(y_true, y_pred)\n",
        "    final_avg_class_acc = calculate_class_accuracy(model, test_loader, autoencoder, num_classes)\n",
        "\n",
        "    print(f\"Final Results:\")\n",
        "    print(f\"Top-1 Accuracy: {final_top1_acc:.4f}\")\n",
        "    print(f\"Average Class Accuracy: {final_avg_class_acc:.4f}\")\n",
        "\n",
        "    return final_top1_acc, final_avg_class_acc\n"
      ],
      "metadata": {
        "id": "6CxWWw5mpFIN"
      },
      "execution_count": 17,
      "outputs": []
    },
    {
      "cell_type": "code",
      "source": [
        "# Run final evaluation\n",
        "final_top1_acc, final_avg_class_acc = evaluate_best_model()"
      ],
      "metadata": {
        "id": "Eh4_mjmdpLBg",
        "colab": {
          "base_uri": "https://localhost:8080/"
        },
        "outputId": "dedef2e4-ad11-46cb-c54d-bec888a375bf"
      },
      "execution_count": 18,
      "outputs": [
        {
          "output_type": "stream",
          "name": "stderr",
          "text": [
            "<ipython-input-17-0d36d9244055>:4: FutureWarning: You are using `torch.load` with `weights_only=False` (the current default value), which uses the default pickle module implicitly. It is possible to construct malicious pickle data which will execute arbitrary code during unpickling (See https://github.com/pytorch/pytorch/blob/main/SECURITY.md#untrusted-models for more details). In a future release, the default value for `weights_only` will be flipped to `True`. This limits the functions that could be executed during unpickling. Arbitrary objects will no longer be allowed to be loaded via this mode unless they are explicitly allowlisted by the user via `torch.serialization.add_safe_globals`. We recommend you start setting `weights_only=True` for any use case where you don't have full control of the loaded file. Please open an issue on GitHub for any issues related to this experimental feature.\n",
            "  checkpoint = torch.load('best_model.pth')\n",
            "100%|██████████| 76/76 [00:36<00:00,  2.08it/s]\n",
            "100%|██████████| 76/76 [00:34<00:00,  2.19it/s]"
          ]
        },
        {
          "output_type": "stream",
          "name": "stdout",
          "text": [
            "Final Results:\n",
            "Top-1 Accuracy: 0.7317\n",
            "Average Class Accuracy: 0.7260\n"
          ]
        },
        {
          "output_type": "stream",
          "name": "stderr",
          "text": [
            "\n"
          ]
        }
      ]
    }
  ]
}